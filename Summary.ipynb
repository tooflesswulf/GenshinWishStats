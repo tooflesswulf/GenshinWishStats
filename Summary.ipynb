{
 "cells": [
  {
   "cell_type": "code",
   "execution_count": 1,
   "id": "936c392b-c557-46fa-aeca-895b4dee78b3",
   "metadata": {},
   "outputs": [],
   "source": [
    "import numpy as np\n",
    "import matplotlib.pyplot as plt\n",
    "import scipy.special\n",
    "from scipy.interpolate import interp1d\n",
    "from functools import cache\n",
    "from IPython import display\n",
    "\n",
    "import matplotlib\n",
    "\n",
    "%matplotlib inline\n",
    "\n",
    "matplotlib.rcParams['font.size'] = 20\n",
    "matplotlib.rcParams['figure.figsize'] = (14,9)\n",
    "matplotlib.rcParams['savefig.bbox'] = 'tight'\n",
    "\n",
    "import multi_distr\n",
    "from wish_distr import e5s_pdf, e4s_pdf, w5s_pdf, w4s_pdf\n",
    "import markov"
   ]
  },
  {
   "cell_type": "code",
   "execution_count": 2,
   "id": "f7e1dec4-bdc1-485a-9248-8f0699b5cbe8",
   "metadata": {},
   "outputs": [],
   "source": [
    "e5s_mult = multi_distr.MultiDistr(e5s_pdf, n_max=90)\n",
    "e4s_mult = multi_distr.MultiDistr(e4s_pdf, n_max=10)\n",
    "w5s_mult = multi_distr.MultiDistr(w5s_pdf, n_max=75)\n",
    "w4s_mult = multi_distr.MultiDistr(w4s_pdf, n_max=9)"
   ]
  },
  {
   "cell_type": "code",
   "execution_count": 15,
   "id": "82d6f4f6-903a-4575-9707-3d1b05d2a732",
   "metadata": {},
   "outputs": [
    {
     "name": "stdout",
     "output_type": "stream",
     "text": [
      "(77, 80, 83)\n",
      "(9, 10, 10)\n",
      "(66, 68, 71)\n",
      "(8, 9, 9)\n"
     ]
    }
   ],
   "source": [
    "def summ1(distr):\n",
    "    peak = np.argmax(distr)\n",
    "    perc90 = np.argmax(np.cumsum(distr) > .9)\n",
    "    perc99 = np.argmax(np.cumsum(distr) > .99)\n",
    "    \n",
    "    return peak, perc90, perc99\n",
    "\n",
    "print( summ1(e5s_mult(np.arange(91))) )\n",
    "print( summ1(e4s_mult(np.arange(11))) )\n",
    "print( summ1(w5s_mult(np.arange(76))) )\n",
    "print( summ1(w4s_mult(np.arange(10))) )"
   ]
  },
  {
   "cell_type": "code",
   "execution_count": 21,
   "id": "5d50fc23-b155-486d-a014-dd43657fea21",
   "metadata": {},
   "outputs": [
    {
     "name": "stdout",
     "output_type": "stream",
     "text": [
      "62.3385$n$ & 24.3405$\\sqrt{n}$\n",
      "7.6526$n$ & 2.8371$\\sqrt{n}$\n",
      "53.1251$n$ & 20.6283$\\sqrt{n}$\n",
      "6.7233$n$ & 2.5137$\\sqrt{n}$\n"
     ]
    }
   ],
   "source": [
    "def summ2(distr):\n",
    "    return f'{distr.mean:.4f}$n$ & {distr.std:.4f}$\\sqrt{{n}}$'\n",
    "    \n",
    "\n",
    "print(summ2(e5s_mult))\n",
    "print(summ2(e4s_mult))\n",
    "print(summ2(w5s_mult))\n",
    "print(summ2(w4s_mult))"
   ]
  },
  {
   "cell_type": "code",
   "execution_count": 22,
   "id": "142beed9-a953-416b-af9f-68a2db2d7a86",
   "metadata": {},
   "outputs": [
    {
     "name": "stdout",
     "output_type": "stream",
     "text": [
      "PATHOLOGICAL MARKOV CHAIN\n"
     ]
    }
   ],
   "source": [
    "e5s_mkv = [[0,0,0],[1/2,0,0],[1/2,1,1]]\n",
    "e4s_mkv = [[1/3,2/3,0],[1/2,0,0],[1/6,1/3,1]]\n",
    "w5s_mkv = [[3/8,1/2,0],[1/4,0,0],[3/8,1/2,1]]\n",
    "w4s_mkv = [[3/5,4/5,0],[1/4,0,0],[3/20,1/5,1]]\n",
    "\n",
    "e5s_hitter = markov.distr_hitter(markov.MarkovSolver(e5s_mkv), e5s_mult)\n",
    "e5s_targ_mult = multi_distr.MultiDistr(e5s_hitter, 180)"
   ]
  },
  {
   "cell_type": "code",
   "execution_count": 28,
   "id": "1d6c202c-3014-44e9-89cb-82b97e682090",
   "metadata": {},
   "outputs": [
    {
     "name": "stdout",
     "output_type": "stream",
     "text": [
      "e4s done\n",
      "w4s done\n"
     ]
    }
   ],
   "source": [
    "infinity = 500\n",
    "e4s_targ_mult = multi_distr.DupeTargMulti(markov.MarkovSolver(e4s_mkv), e4s_mult, infinity)\n",
    "print('e4s done')\n",
    "w4s_targ_mult = multi_distr.DupeTargMulti(markov.MarkovSolver(w4s_mkv), w4s_mult, infinity)\n",
    "print('w4s done')"
   ]
  },
  {
   "cell_type": "code",
   "execution_count": 29,
   "id": "d163296c-9851-408a-a6e0-98c1ed6cb81c",
   "metadata": {},
   "outputs": [],
   "source": [
    "w5s_targ_mult = multi_distr.DupeTargMulti(markov.MarkovSolver(w5s_mkv), w5s_mult, 2000)"
   ]
  },
  {
   "cell_type": "code",
   "execution_count": 57,
   "id": "1fa53ed1-73a7-4372-82c6-0e221711198a",
   "metadata": {},
   "outputs": [
    {
     "name": "stdout",
     "output_type": "stream",
     "text": [
      "(34, 0.6290350583925449, 26, 52)\n",
      "(42, 0.6372011529920517, 30, 66)\n",
      "(94, 0.6102268977980926, 80, 151)\n",
      "(133, 0.6390456139687744, 104, 198)\n"
     ]
    }
   ],
   "source": [
    "def summ3(distr, inf=500):\n",
    "    x = np.arange(inf)\n",
    "    cs = np.cumsum(distr(x, 1))\n",
    "    mu = round(np.sum(1 - cs))\n",
    "\n",
    "    perc50 = np.argmax(cs > .5)\n",
    "    perc80 = np.argmax(cs > .8)\n",
    "    return mu, cs[mu], perc50, perc80\n",
    "\n",
    "print(summ3(e4s_targ_mult))\n",
    "print(summ3(w4s_targ_mult))\n",
    "print(summ3(e5s_targ_mult, 1000))\n",
    "print(summ3(w5s_targ_mult, 1000))"
   ]
  },
  {
   "cell_type": "code",
   "execution_count": 58,
   "id": "baffc52c-f1c2-4759-a315-c1102bdf5421",
   "metadata": {},
   "outputs": [],
   "source": [
    "def summ4(distr, n, inf=500):\n",
    "    x = np.arange(inf)\n",
    "    cs = np.cumsum(distr(x, n))\n",
    "    mu = round(np.sum(1-cs))\n",
    "    \n",
    "    perc50 = np.argmax(cs > .5)\n",
    "    perc80 = np.argmax(cs > .8)\n",
    "    return mu, cs[mu], perc50, perc80"
   ]
  },
  {
   "cell_type": "code",
   "execution_count": 72,
   "id": "981d5ce8-3ca9-4b59-a939-b00ba96fcdfb",
   "metadata": {},
   "outputs": [
    {
     "name": "stdout",
     "output_type": "stream",
     "text": [
      "(187, 0.5196953667403115, 183, 236)\n",
      "(210, 0.5613723121317911, 197, 276)\n",
      "(241, 0.5522387935670549, 231, 302)\n",
      "(655, 0.5044661162845425, 654, 752)\n"
     ]
    }
   ],
   "source": [
    "print(summ4(e5s_targ_mult, 2))\n",
    "print(summ4(w4s_targ_mult, 5))\n",
    "print(summ4(e4s_targ_mult, 7))\n",
    "print(summ4(e5s_targ_mult, 7, inf=1000))"
   ]
  },
  {
   "cell_type": "code",
   "execution_count": 75,
   "id": "7052dd45-e838-48c1-ab11-8f27353d44a8",
   "metadata": {},
   "outputs": [
    {
     "data": {
      "text/plain": [
       "(664, 0.5582699007377748, 631, 844)"
      ]
     },
     "execution_count": 75,
     "metadata": {},
     "output_type": "execute_result"
    }
   ],
   "source": [
    "summ4(w5s_targ_mult, 5, inf=2200)"
   ]
  },
  {
   "cell_type": "code",
   "execution_count": 86,
   "id": "2fecb2db-bf3a-4432-95b6-89adda36754f",
   "metadata": {},
   "outputs": [
    {
     "data": {
      "text/plain": [
       "[<matplotlib.lines.Line2D at 0x131c7cac0>]"
      ]
     },
     "execution_count": 86,
     "metadata": {},
     "output_type": "execute_result"
    },
    {
     "data": {
      "image/png": "[encoded data removed]",
      "text/plain": [
       "<Figure size 1008x648 with 1 Axes>"
      ]
     },
     "metadata": {
      "needs_background": "light"
     },
     "output_type": "display_data"
    }
   ],
   "source": [
    "plt.plot(1 - np.cumsum(w5s_targ_mult(np.arange(1500, 2200), 5)))"
   ]
  },
  {
   "cell_type": "code",
   "execution_count": 90,
   "id": "af62e0e0-28ed-4c68-a11b-fa6ed23f04b5",
   "metadata": {},
   "outputs": [
    {
     "data": {
      "text/plain": [
       "array([-2.16840434e-19,  1.30104261e-18,  3.52365706e-18, ...,\n",
       "        1.00035501e+00,  1.00035517e+00,  1.00035533e+00])"
      ]
     },
     "execution_count": 90,
     "metadata": {},
     "output_type": "execute_result"
    }
   ],
   "source": [
    "np.cumsum(w5s_targ_mult(np.arange(1, 2200), 5))"
   ]
  },
  {
   "cell_type": "code",
   "execution_count": null,
   "id": "57330150-11ee-4bf3-981f-6c7427bfb556",
   "metadata": {},
   "outputs": [],
   "source": []
  }
 ],
 "metadata": {
  "kernelspec": {
   "display_name": "Python 3",
   "language": "python",
   "name": "python3"
  },
  "language_info": {
   "codemirror_mode": {
    "name": "ipython",
    "version": 3
   },
   "file_extension": ".py",
   "mimetype": "text/x-python",
   "name": "python",
   "nbconvert_exporter": "python",
   "pygments_lexer": "ipython3",
   "version": "3.9.5"
  }
 },
 "nbformat": 4,
 "nbformat_minor": 5
}
